{
 "cells": [
  {
   "cell_type": "code",
   "execution_count": null,
   "id": "2bfc26d1-bf37-4669-a09b-93e17c24b4d7",
   "metadata": {},
   "outputs": [],
   "source": [
    "#A for loop is used when you know the number of iterations beforehand, and you want to iterate over a sequence of items such as a list, tuple, dictionary, set, or string. For example, if you have a list of numbers and you want to print each of them, you can use a for loop."
   ]
  },
  {
   "cell_type": "code",
   "execution_count": 16,
   "id": "56463b8b-9b9b-45ea-836f-02728e2f9bf7",
   "metadata": {},
   "outputs": [],
   "source": [
    "l = ['python' , 'java' , 'c++', 'R' , {'Apple' , 'banana' , 'Mango' , 'grapes'}, 1,2,3,4]"
   ]
  },
  {
   "cell_type": "code",
   "execution_count": 17,
   "id": "81c83055-32ec-4b83-9c17-08dc9fefd603",
   "metadata": {},
   "outputs": [
    {
     "name": "stdout",
     "output_type": "stream",
     "text": [
      "python\n",
      "java\n",
      "c++\n",
      "R\n",
      "{'grapes', 'banana', 'Apple', 'Mango'}\n",
      "1\n",
      "2\n",
      "3\n",
      "4\n"
     ]
    }
   ],
   "source": [
    "for i in l:\n",
    "    print(i)"
   ]
  },
  {
   "cell_type": "code",
   "execution_count": 17,
   "id": "4cee2bcd-7840-4af8-bbaf-e8a944d0af8b",
   "metadata": {},
   "outputs": [],
   "source": [
    "l = ['python' , 'java' , 'c++', 'R', {'Apple' , 'banana' , 'Mango' , 'grapes'}, 1,2,3,4]"
   ]
  },
  {
   "cell_type": "code",
   "execution_count": 46,
   "id": "a2ba0a03-088c-4e2e-915b-5e97c1a66369",
   "metadata": {},
   "outputs": [
    {
     "data": {
      "text/plain": [
       "{'Apple', 'Mango', 'banana', 'grapes'}"
      ]
     },
     "execution_count": 46,
     "metadata": {},
     "output_type": "execute_result"
    }
   ],
   "source": [
    "l[4]"
   ]
  },
  {
   "cell_type": "code",
   "execution_count": null,
   "id": "518610ae-4ab2-42fe-a422-9b58c1451f72",
   "metadata": {},
   "outputs": [],
   "source": [
    "#A while loop is used when you don't know the number of iterations beforehand, and you want to repeat the code block as long as a certain condition is met. For example, if you want to keep asking the user for their age until they provide a valid input, you can use a while loop."
   ]
  },
  {
   "cell_type": "code",
   "execution_count": 1,
   "id": "de409b87-33dc-4e82-b5e4-566900626e5b",
   "metadata": {},
   "outputs": [
    {
     "name": "stdout",
     "output_type": "stream",
     "text": [
      "0\n",
      "1\n",
      "2\n",
      "3\n",
      "4\n"
     ]
    }
   ],
   "source": [
    "count = 0\n",
    "while count < 5:\n",
    "    print(count)\n",
    "    count += 1"
   ]
  },
  {
   "cell_type": "code",
   "execution_count": 16,
   "id": "c2b8eff8-c358-417b-850d-be3d2acde811",
   "metadata": {},
   "outputs": [
    {
     "name": "stdout",
     "output_type": "stream",
     "text": [
      "55\n"
     ]
    }
   ],
   "source": [
    "#q2\n",
    "a = 0\n",
    "b = 1\n",
    "while b <= 10:\n",
    "    a = a +b\n",
    "    b = b + 1\n",
    "print(a)"
   ]
  },
  {
   "cell_type": "code",
   "execution_count": 26,
   "id": "067585b9-5b8e-40dd-b987-39c6997c583c",
   "metadata": {},
   "outputs": [],
   "source": [
    "m = range(0,11)"
   ]
  },
  {
   "cell_type": "code",
   "execution_count": 27,
   "id": "d1fdf906-4864-44f5-8090-92b129b11f10",
   "metadata": {},
   "outputs": [
    {
     "name": "stdout",
     "output_type": "stream",
     "text": [
      "55\n"
     ]
    }
   ],
   "source": [
    "result = 0 \n",
    "for i in m:\n",
    "    result = result + i\n",
    "print(result)"
   ]
  },
  {
   "cell_type": "code",
   "execution_count": 25,
   "id": "c5fb54ec-ab83-4a4d-95b6-e484ab2a3a7a",
   "metadata": {},
   "outputs": [
    {
     "name": "stdout",
     "output_type": "stream",
     "text": [
      "362880\n"
     ]
    }
   ],
   "source": [
    "p = 1\n",
    "a = 1\n",
    "while a < 10:\n",
    "    p = p * a\n",
    "    a = a + 1\n",
    "print(p)"
   ]
  },
  {
   "cell_type": "code",
   "execution_count": 22,
   "id": "326ed6fa-6970-4f4c-a2bf-0d8a7e293b4a",
   "metadata": {},
   "outputs": [],
   "source": [
    "n = [1,2,3,4,5,6,7,8,9,10]"
   ]
  },
  {
   "cell_type": "code",
   "execution_count": 23,
   "id": "d9bb8ff5-12f7-4e00-b662-b41c32b4d1fc",
   "metadata": {},
   "outputs": [
    {
     "data": {
      "text/plain": [
       "[1, 2, 3, 4, 5, 6, 7, 8, 9, 10]"
      ]
     },
     "execution_count": 23,
     "metadata": {},
     "output_type": "execute_result"
    }
   ],
   "source": [
    "n"
   ]
  },
  {
   "cell_type": "code",
   "execution_count": 24,
   "id": "751af109-3fe7-4800-8b64-b64e65bef4c4",
   "metadata": {},
   "outputs": [
    {
     "name": "stdout",
     "output_type": "stream",
     "text": [
      "3628800\n"
     ]
    }
   ],
   "source": [
    "product = 1\n",
    "for i in n:\n",
    "    product = product * i\n",
    "print(product)"
   ]
  },
  {
   "cell_type": "code",
   "execution_count": 5,
   "id": "791de9dd-ee22-4eda-a2b1-c7b1cea1d05d",
   "metadata": {},
   "outputs": [
    {
     "name": "stdin",
     "output_type": "stream",
     "text": [
      "Enter Unit 310\n"
     ]
    },
    {
     "name": "stdout",
     "output_type": "stream",
     "text": [
      "2250.0\n"
     ]
    }
   ],
   "source": [
    "#q3\n",
    "unit = int(input(\"Enter Unit\"))\n",
    "if unit <= 100:\n",
    "    a = unit * 4.5\n",
    "elif unit <= 200:        \n",
    "    a = (100 * 4.5) + ((unit - 100) * 6)\n",
    "elif unit <=300:        \n",
    "    a = (100 * 4.5) + (100 * 6) +((unit - 200) * 10)\n",
    "else :\n",
    "    a = (100 * 4.5) + (100 * 6) + (100 * 10) + ((unit - 300) * 20)\n",
    "print(a)    "
   ]
  },
  {
   "cell_type": "code",
   "execution_count": 6,
   "id": "efa7c56f-3e47-4812-bb40-0f8ca5ffdd79",
   "metadata": {},
   "outputs": [],
   "source": [
    "g = range(0,100)"
   ]
  },
  {
   "cell_type": "code",
   "execution_count": 9,
   "id": "551617cb-605a-43b9-a644-8ad0e7564a5e",
   "metadata": {},
   "outputs": [
    {
     "data": {
      "text/plain": [
       "[0,\n",
       " 64,\n",
       " 125,\n",
       " 512,\n",
       " 1000,\n",
       " 1728,\n",
       " 3375,\n",
       " 4096,\n",
       " 8000,\n",
       " 13824,\n",
       " 15625,\n",
       " 21952,\n",
       " 27000,\n",
       " 32768,\n",
       " 42875,\n",
       " 46656,\n",
       " 64000,\n",
       " 85184,\n",
       " 91125,\n",
       " 110592,\n",
       " 125000,\n",
       " 140608,\n",
       " 166375,\n",
       " 175616,\n",
       " 216000,\n",
       " 262144,\n",
       " 274625,\n",
       " 314432,\n",
       " 343000,\n",
       " 373248,\n",
       " 421875,\n",
       " 438976,\n",
       " 512000,\n",
       " 592704,\n",
       " 614125,\n",
       " 681472,\n",
       " 729000,\n",
       " 778688,\n",
       " 857375,\n",
       " 884736]"
      ]
     },
     "execution_count": 9,
     "metadata": {},
     "output_type": "execute_result"
    }
   ],
   "source": [
    "[i**3 for i in g if i %4==0 or i % 5==0]"
   ]
  },
  {
   "cell_type": "code",
   "execution_count": 2,
   "id": "8f2898d5-b533-4555-b787-f79926181c40",
   "metadata": {},
   "outputs": [
    {
     "name": "stdin",
     "output_type": "stream",
     "text": [
      "Type Something I want to become a data scientist\"\n"
     ]
    },
    {
     "name": "stdout",
     "output_type": "stream",
     "text": [
      "12\n"
     ]
    }
   ],
   "source": [
    "s = input(\"Type Something\")\n",
    "vowels = \"aeiouAEIOU\"\n",
    "count = 0\n",
    "for i in s:\n",
    "    if i in vowels:\n",
    "        count = count + 1\n",
    "print(count)"
   ]
  },
  {
   "cell_type": "code",
   "execution_count": null,
   "id": "105e2c75-3a3c-47d3-adec-ce910ee46c0d",
   "metadata": {},
   "outputs": [],
   "source": []
  }
 ],
 "metadata": {
  "kernelspec": {
   "display_name": "Python 3 (ipykernel)",
   "language": "python",
   "name": "python3"
  },
  "language_info": {
   "codemirror_mode": {
    "name": "ipython",
    "version": 3
   },
   "file_extension": ".py",
   "mimetype": "text/x-python",
   "name": "python",
   "nbconvert_exporter": "python",
   "pygments_lexer": "ipython3",
   "version": "3.10.8"
  }
 },
 "nbformat": 4,
 "nbformat_minor": 5
}
